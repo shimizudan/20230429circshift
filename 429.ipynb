{
 "cells": [
  {
   "cell_type": "code",
   "execution_count": 2,
   "metadata": {},
   "outputs": [],
   "source": [
    "using Combinatorics"
   ]
  },
  {
   "cell_type": "code",
   "execution_count": 3,
   "metadata": {},
   "outputs": [
    {
     "data": {
      "text/plain": [
       "evencount (generic function with 1 method)"
      ]
     },
     "metadata": {},
     "output_type": "display_data"
    }
   ],
   "source": [
    "function permketa(seq,n=length(seq))\n",
    "    q=[]\n",
    "    p = permutations(seq, n)\n",
    "    for i in p\n",
    "        if i[1] != 0\n",
    "            push!(q, i)\n",
    "        end\n",
    "    end\n",
    "    union(q)\n",
    "end\n",
    "\n",
    "function evencount(p1)\n",
    "    k=0\n",
    "    m=length(p1)\n",
    "    for i=1:m\n",
    "        if mod(p1[i][length(p1[i])],2) == 0\n",
    "            k+=1\n",
    "        end\n",
    "    end\n",
    "    return k\n",
    "end\n"
   ]
  },
  {
   "cell_type": "code",
   "execution_count": 5,
   "metadata": {},
   "outputs": [
    {
     "name": "stdout",
     "output_type": "stream",
     "text": [
      "全部で300個，偶数は156個，奇数は144個です。\n"
     ]
    }
   ],
   "source": [
    "# 同じ数字を使ってはいけない。\n",
    "seq = [0,1, 2, 3, 4, 5];\n",
    "p = permketa(seq, 4) |>length\n",
    "q = permketa(seq, 4) |>evencount\n",
    "println(\"全部で\", p,\n",
    "\"個，偶数は\",q,\n",
    "\"個，奇数は\",p-q,\"個です。\")"
   ]
  },
  {
   "cell_type": "code",
   "execution_count": 6,
   "metadata": {},
   "outputs": [
    {
     "name": "stdout",
     "output_type": "stream",
     "text": [
      "全部で975個，偶数は492個，奇数は483個です。\n"
     ]
    }
   ],
   "source": [
    "# 同じ数字を 2 回まで使ってよい。\n",
    "seq = [0 ,1, 2, 3, 4, 5 ,0 ,1, 2, 3, 4, 5 ];\n",
    "p = permketa(seq, 4) |>length\n",
    "q = permketa(seq, 4) |>evencount\n",
    "println(\"全部で\", p,\n",
    "\"個，偶数は\",q,\n",
    "\"個，奇数は\",p-q,\"個です。\")"
   ]
  },
  {
   "cell_type": "code",
   "execution_count": 7,
   "metadata": {},
   "outputs": [
    {
     "name": "stdout",
     "output_type": "stream",
     "text": [
      "全部で1075個，偶数は538個，奇数は537個です。\n"
     ]
    }
   ],
   "source": [
    "# 同じ数字を 3 回まで使ってよい。\n",
    "seq = [0 ,1, 2, 3, 4, 5 ,0 ,1, 2, 3, 4, 5 ,0 ,1, 2, 3, 4, 5 ];\n",
    "p = permketa(seq, 4) |>length\n",
    "q = permketa(seq, 4) |>evencount\n",
    "println(\"全部で\", p,\"個，偶数は\",q,\"個，奇数は\",p-q,\"個です。\")"
   ]
  },
  {
   "cell_type": "code",
   "execution_count": 8,
   "metadata": {},
   "outputs": [
    {
     "name": "stdout",
     "output_type": "stream",
     "text": [
      "全部で1080個，偶数は540個，奇数は540個です。\n"
     ]
    }
   ],
   "source": [
    "# 同じ数字を何回でも使ってよい。\n",
    "seq = [0 ,1, 2, 3, 4, 5 ,0 ,1, 2, 3, 4, 5 ,0 ,1, 2, 3, 4, 5  ,1, 2, 3, 4, 5 ];\n",
    "p = permketa(seq, 4) |>length\n",
    "q = permketa(seq, 4) |>evencount\n",
    "println(\"全部で\", p,\n",
    "\"個，偶数は\",q,\n",
    "\"個，奇数は\",p-q,\"個です。\")"
   ]
  },
  {
   "cell_type": "code",
   "execution_count": 12,
   "metadata": {},
   "outputs": [
    {
     "name": "stdout",
     "output_type": "stream",
     "text": [
      "全部で189個，偶数は95個，奇数は94個です。\n"
     ]
    }
   ],
   "source": [
    "seq = [0 ,1, 2, 3,0 ,1, 2, 3 ,0 ,1, 2, 3 ];\n",
    "p = permketa(seq, 4) |>length\n",
    "q = permketa(seq, 4) |>evencount\n",
    "println(\"全部で\", p,\"個，偶数は\",q,\"個，奇数は\",p-q,\"個です。\")"
   ]
  },
  {
   "cell_type": "code",
   "execution_count": 13,
   "metadata": {},
   "outputs": [
    {
     "name": "stdout",
     "output_type": "stream",
     "text": [
      "全部で496個，偶数は298個，奇数は198個です。\n"
     ]
    }
   ],
   "source": [
    "seq = [0 ,1, 2, 3,4 ,0 ,1, 2, 3,4,0 ,1, 2, 3,4 ];\n",
    "p = permketa(seq, 4) |>length\n",
    "q = permketa(seq, 4) |>evencount\n",
    "println(\"全部で\", p,\"個，偶数は\",q,\"個，奇数は\",p-q,\"個です。\")"
   ]
  },
  {
   "cell_type": "code",
   "execution_count": 14,
   "metadata": {},
   "outputs": [
    {
     "name": "stdout",
     "output_type": "stream",
     "text": [
      "全部で2052個，偶数は1173個，奇数は879個です。\n"
     ]
    }
   ],
   "source": [
    "seq = [0 ,1, 2, 3,4,5,6 ,0 ,1, 2, 3,4,5,6,0 ,1, 2, 3,4,5,6 ];\n",
    "p = permketa(seq, 4) |>length\n",
    "q = permketa(seq, 4) |>evencount\n",
    "println(\"全部で\", p,\"個，偶数は\",q,\"個，奇数は\",p-q,\"個です。\")"
   ]
  },
  {
   "cell_type": "code",
   "execution_count": 15,
   "metadata": {},
   "outputs": [
    {
     "name": "stdout",
     "output_type": "stream",
     "text": [
      "全部で6475個，偶数は3238個，奇数は3237個です。\n"
     ]
    }
   ],
   "source": [
    "# 同じ数字を 3 回まで使ってよい。\n",
    "seq = [0 ,1, 2, 3, 4, 5 ,0 ,1, 2, 3, 4, 5  ,0 ,1, 2, 3, 4, 5  ,0 ,1, 2, 3, 4, 5  ];\n",
    "p = permketa(seq, 5) |>length\n",
    "q = permketa(seq, 5) |>evencount\n",
    "println(\"全部で\", p,\n",
    "\"個，偶数は\",q,\n",
    "\"個，奇数は\",p-q,\"個です。\")"
   ]
  },
  {
   "cell_type": "code",
   "execution_count": 16,
   "metadata": {},
   "outputs": [
    {
     "name": "stdout",
     "output_type": "stream",
     "text": [
      "全部で38725個，偶数は19372個，奇数は19353個です。\n"
     ]
    }
   ],
   "source": [
    "# 同じ数字を 3 回まで使ってよい。\n",
    "seq = [0 ,1, 2, 3, 4, 5 ,0 ,1, 2, 3, 4, 5  ,0 ,1, 2, 3, 4, 5  ,0 ,1, 2, 3, 4, 5  ];\n",
    "p = permketa(seq, 6) |>length\n",
    "q = permketa(seq, 6) |>evencount\n",
    "println(\"全部で\", p,\n",
    "\"個，偶数は\",q,\n",
    "\"個，奇数は\",p-q,\"個です。\")"
   ]
  },
  {
   "cell_type": "code",
   "execution_count": null,
   "metadata": {},
   "outputs": [],
   "source": []
  }
 ],
 "metadata": {
  "kernelspec": {
   "display_name": "Julia 1.8.5",
   "language": "julia",
   "name": "julia-1.8"
  },
  "language_info": {
   "file_extension": ".jl",
   "mimetype": "application/julia",
   "name": "julia",
   "version": "1.8.5"
  },
  "orig_nbformat": 4
 },
 "nbformat": 4,
 "nbformat_minor": 2
}
